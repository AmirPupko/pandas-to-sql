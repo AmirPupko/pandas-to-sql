{
  "nbformat": 4,
  "nbformat_minor": 0,
  "metadata": {
    "colab": {
      "name": "pandas_to_sql.ipynb",
      "provenance": [],
      "collapsed_sections": []
    },
    "kernelspec": {
      "name": "python3",
      "display_name": "Python 3"
    }
  },
  "cells": [
    {
      "cell_type": "code",
      "metadata": {
        "id": "5oTOIl8oHBhe"
      },
      "source": [
        "!pip install pandas-to-sql -U"
      ],
      "execution_count": null,
      "outputs": []
    },
    {
      "cell_type": "code",
      "metadata": {
        "id": "sGSsvHC8HaQ0"
      },
      "source": [
        "from copy import copy\r\n",
        "import sqlite3\r\n",
        "import pandas as pd\r\n",
        "import pandas_to_sql\r\n",
        "from pandas_to_sql import conventions"
      ],
      "execution_count": null,
      "outputs": []
    },
    {
      "cell_type": "code",
      "metadata": {
        "id": "NexlwrknMQGS"
      },
      "source": [
        "iris = pd.read_csv('https://raw.githubusercontent.com/mwaskom/seaborn-data/master/iris.csv')\r\n",
        "table_name = 'iris'\r\n",
        "sql_connection = sqlite3.connect('./iris.db') #create db\r\n",
        "iris.to_sql(table_name, sql_connection, if_exists='replace', index=False)\r\n",
        "iris[:2]"
      ],
      "execution_count": null,
      "outputs": []
    },
    {
      "cell_type": "code",
      "metadata": {
        "id": "dlK3PNWBMPXc"
      },
      "source": [
        "df = pandas_to_sql.wrap_df(iris, table_name)\r\n",
        "pd_wrapped = pandas_to_sql.wrap_pd(pd)"
      ],
      "execution_count": null,
      "outputs": []
    },
    {
      "cell_type": "code",
      "metadata": {
        "id": "cUwu1LtnVCXY"
      },
      "source": [
        "df.get_sql_string()"
      ],
      "execution_count": null,
      "outputs": []
    },
    {
      "cell_type": "code",
      "metadata": {
        "id": "0tQZAfyLMtDB"
      },
      "source": [
        "species_petal_length_stats_df = df.groupby('species').agg({'petal_length':['mean','sum','count']})\r\n",
        "species_petal_length_stats_df = conventions.flatten_grouped_dataframe(species_petal_length_stats_df)\r\n",
        "\r\n",
        "species_petal_length_stats_df.get_sql_string()\r\n"
      ],
      "execution_count": null,
      "outputs": []
    },
    {
      "cell_type": "code",
      "metadata": {
        "id": "p9YLqZ7EMs9V"
      },
      "source": [
        "df[(df.petal_length>1.4) & (df.petal_width<.2)].get_sql_string()"
      ],
      "execution_count": null,
      "outputs": []
    },
    {
      "cell_type": "code",
      "metadata": {
        "id": "9DfYy1SeMs40"
      },
      "source": [
        "df_ = copy(df)\r\n",
        "df_['sepal_width_rounded'] = df_.sepal_width.round()\r\n",
        "df_1 = df_[df_.species=='setosa'].reset_index(drop=True)\r\n",
        "df_2 = df_[df_.species=='versicolor'].reset_index(drop=True)\r\n",
        "pd_wrapped.concat([df_1, df_2]).get_sql_string()"
      ],
      "execution_count": null,
      "outputs": []
    },
    {
      "cell_type": "code",
      "metadata": {
        "id": "N5tjEM2tMszV"
      },
      "source": [
        "df_ = copy(df)\r\n",
        "df_['sepal_width_rounded'] = df_.sepal_width.round()\r\n",
        "df_1 = df_[df_.species=='setosa'].reset_index(drop=True)\r\n",
        "df_2 = df_[df_.species=='versicolor'].reset_index(drop=True)\r\n",
        "\r\n",
        "some_df = pd_wrapped.concat([df_1, df_2])\r\n",
        "\r\n",
        "sql_string = some_df.get_sql_string()\r\n",
        "\r\n",
        "df_from_sql_database = pd.read_sql_query(sql_string, sql_connection)\r\n",
        "df_pandas = some_df.df_pandas\r\n",
        "\r\n",
        "from pandas_to_sql.testing.utils.asserters import assert_dataframes_equals\r\n",
        "assert_dataframes_equals(df_pandas, df_from_sql_database)"
      ],
      "execution_count": null,
      "outputs": []
    },
    {
      "cell_type": "code",
      "metadata": {
        "id": "Xdq5qc-ZMssZ"
      },
      "source": [
        ""
      ],
      "execution_count": null,
      "outputs": []
    },
    {
      "cell_type": "code",
      "metadata": {
        "id": "b7-1Tm38H5_N"
      },
      "source": [
        ""
      ],
      "execution_count": null,
      "outputs": []
    },
    {
      "cell_type": "code",
      "metadata": {
        "id": "vGoC5UseH--p"
      },
      "source": [
        ""
      ],
      "execution_count": null,
      "outputs": []
    },
    {
      "cell_type": "code",
      "metadata": {
        "id": "H1K5YaZyMNqw"
      },
      "source": [
        ""
      ],
      "execution_count": null,
      "outputs": []
    },
    {
      "cell_type": "code",
      "metadata": {
        "id": "iAzstJzyHh9q"
      },
      "source": [
        ""
      ],
      "execution_count": null,
      "outputs": []
    }
  ]
}
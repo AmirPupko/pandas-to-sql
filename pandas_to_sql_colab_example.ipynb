{
  "nbformat": 4,
  "nbformat_minor": 0,
  "metadata": {
    "colab": {
      "name": "pandas_to_sql_colab_example.ipynb",
      "provenance": [],
      "collapsed_sections": [],
      "authorship_tag": "ABX9TyPTBsf7gZggRD828S1nx250",
      "include_colab_link": true
    },
    "kernelspec": {
      "name": "python3",
      "display_name": "Python 3"
    }
  },
  "cells": [
    {
      "cell_type": "markdown",
      "metadata": {
        "id": "view-in-github",
        "colab_type": "text"
      },
      "source": [
        "<a href=\"https://colab.research.google.com/github/AmirPupko/pandas-to-sql/blob/main/pandas_to_sql_colab_example.ipynb\" target=\"_parent\"><img src=\"https://colab.research.google.com/assets/colab-badge.svg\" alt=\"Open In Colab\"/></a>"
      ]
    },
    {
      "cell_type": "code",
      "metadata": {
        "id": "5oTOIl8oHBhe",
        "colab": {
          "base_uri": "https://localhost:8080/"
        },
        "outputId": "1f6d0bea-3f84-43d3-d43a-ddb55596e920"
      },
      "source": [
        "!pip install pandas-to-sql -U"
      ],
      "execution_count": 1,
      "outputs": [
        {
          "output_type": "stream",
          "text": [
            "Requirement already up-to-date: pandas-to-sql in /usr/local/lib/python3.6/dist-packages (0.0.546)\n"
          ],
          "name": "stdout"
        }
      ]
    },
    {
      "cell_type": "code",
      "metadata": {
        "id": "sGSsvHC8HaQ0"
      },
      "source": [
        "from copy import copy\r\n",
        "import sqlite3\r\n",
        "import pandas as pd\r\n",
        "import pandas_to_sql\r\n",
        "from pandas_to_sql import conventions"
      ],
      "execution_count": 2,
      "outputs": []
    },
    {
      "cell_type": "code",
      "metadata": {
        "id": "NexlwrknMQGS",
        "colab": {
          "base_uri": "https://localhost:8080/",
          "height": 110
        },
        "outputId": "3e8f6560-0d38-4ca2-b728-15c0b44dbe69"
      },
      "source": [
        "iris = pd.read_csv('https://raw.githubusercontent.com/mwaskom/seaborn-data/master/iris.csv')\r\n",
        "table_name = 'iris'\r\n",
        "sql_connection = sqlite3.connect('./iris.db') #create db\r\n",
        "iris.to_sql(table_name, sql_connection, if_exists='replace', index=False)\r\n",
        "iris[:2]"
      ],
      "execution_count": 3,
      "outputs": [
        {
          "output_type": "execute_result",
          "data": {
            "text/html": [
              "<div>\n",
              "<style scoped>\n",
              "    .dataframe tbody tr th:only-of-type {\n",
              "        vertical-align: middle;\n",
              "    }\n",
              "\n",
              "    .dataframe tbody tr th {\n",
              "        vertical-align: top;\n",
              "    }\n",
              "\n",
              "    .dataframe thead th {\n",
              "        text-align: right;\n",
              "    }\n",
              "</style>\n",
              "<table border=\"1\" class=\"dataframe\">\n",
              "  <thead>\n",
              "    <tr style=\"text-align: right;\">\n",
              "      <th></th>\n",
              "      <th>sepal_length</th>\n",
              "      <th>sepal_width</th>\n",
              "      <th>petal_length</th>\n",
              "      <th>petal_width</th>\n",
              "      <th>species</th>\n",
              "    </tr>\n",
              "  </thead>\n",
              "  <tbody>\n",
              "    <tr>\n",
              "      <th>0</th>\n",
              "      <td>5.1</td>\n",
              "      <td>3.5</td>\n",
              "      <td>1.4</td>\n",
              "      <td>0.2</td>\n",
              "      <td>setosa</td>\n",
              "    </tr>\n",
              "    <tr>\n",
              "      <th>1</th>\n",
              "      <td>4.9</td>\n",
              "      <td>3.0</td>\n",
              "      <td>1.4</td>\n",
              "      <td>0.2</td>\n",
              "      <td>setosa</td>\n",
              "    </tr>\n",
              "  </tbody>\n",
              "</table>\n",
              "</div>"
            ],
            "text/plain": [
              "   sepal_length  sepal_width  petal_length  petal_width species\n",
              "0           5.1          3.5           1.4          0.2  setosa\n",
              "1           4.9          3.0           1.4          0.2  setosa"
            ]
          },
          "metadata": {
            "tags": []
          },
          "execution_count": 3
        }
      ]
    },
    {
      "cell_type": "code",
      "metadata": {
        "id": "dlK3PNWBMPXc"
      },
      "source": [
        "df = pandas_to_sql.wrap_df(iris, table_name)\r\n",
        "pd_wrapped = pandas_to_sql.wrap_pd(pd)"
      ],
      "execution_count": 4,
      "outputs": []
    },
    {
      "cell_type": "code",
      "metadata": {
        "id": "cUwu1LtnVCXY",
        "colab": {
          "base_uri": "https://localhost:8080/",
          "height": 53
        },
        "outputId": "6463e2a7-f4b2-4fda-a064-658e4b52b4a9"
      },
      "source": [
        "df.get_sql_string()"
      ],
      "execution_count": 5,
      "outputs": [
        {
          "output_type": "execute_result",
          "data": {
            "application/vnd.google.colaboratory.intrinsic+json": {
              "type": "string"
            },
            "text/plain": [
              "'SELECT (sepal_length) AS sepal_length, (sepal_width) AS sepal_width, (petal_length) AS petal_length, (petal_width) AS petal_width, (species) AS species FROM iris'"
            ]
          },
          "metadata": {
            "tags": []
          },
          "execution_count": 5
        }
      ]
    },
    {
      "cell_type": "code",
      "metadata": {
        "id": "0tQZAfyLMtDB",
        "colab": {
          "base_uri": "https://localhost:8080/",
          "height": 53
        },
        "outputId": "b68d70a9-fd51-4fe7-ee68-4b56830762ab"
      },
      "source": [
        "species_petal_length_stats_df = df.groupby('species').agg({'petal_length':['mean','sum','count']})\r\n",
        "species_petal_length_stats_df = conventions.flatten_grouped_dataframe(species_petal_length_stats_df)\r\n",
        "\r\n",
        "species_petal_length_stats_df.get_sql_string()\r\n"
      ],
      "execution_count": 6,
      "outputs": [
        {
          "output_type": "execute_result",
          "data": {
            "application/vnd.google.colaboratory.intrinsic+json": {
              "type": "string"
            },
            "text/plain": [
              "'SELECT (avg(petal_length)) AS petal_length_mean, (sum(petal_length)) AS petal_length_sum, (count(petal_length)) AS petal_length_count, (species) AS species FROM iris GROUP BY species'"
            ]
          },
          "metadata": {
            "tags": []
          },
          "execution_count": 6
        }
      ]
    },
    {
      "cell_type": "code",
      "metadata": {
        "id": "p9YLqZ7EMs9V",
        "colab": {
          "base_uri": "https://localhost:8080/",
          "height": 53
        },
        "outputId": "fcf3e396-007c-48f4-815b-e611b5628da8"
      },
      "source": [
        "df[(df.petal_length>1.4) & (df.petal_width<.2)].get_sql_string()"
      ],
      "execution_count": 7,
      "outputs": [
        {
          "output_type": "execute_result",
          "data": {
            "application/vnd.google.colaboratory.intrinsic+json": {
              "type": "string"
            },
            "text/plain": [
              "'SELECT (sepal_length) AS sepal_length, (sepal_width) AS sepal_width, (petal_length) AS petal_length, (petal_width) AS petal_width, (species) AS species FROM iris WHERE (((petal_length > 1.4) AND (petal_width < 0.2))) '"
            ]
          },
          "metadata": {
            "tags": []
          },
          "execution_count": 7
        }
      ]
    },
    {
      "cell_type": "code",
      "metadata": {
        "id": "9DfYy1SeMs40",
        "colab": {
          "base_uri": "https://localhost:8080/",
          "height": 141
        },
        "outputId": "821d7ea9-6f30-4fea-f1d3-4fcad1e23613"
      },
      "source": [
        "df_ = copy(df)\r\n",
        "df_['sepal_width_rounded'] = df_.sepal_width.round()\r\n",
        "df_1 = df_[df_.species=='setosa'].reset_index(drop=True)\r\n",
        "df_2 = df_[df_.species=='versicolor'].reset_index(drop=True)\r\n",
        "pd_wrapped.concat([df_1, df_2]).get_sql_string()"
      ],
      "execution_count": 8,
      "outputs": [
        {
          "output_type": "execute_result",
          "data": {
            "application/vnd.google.colaboratory.intrinsic+json": {
              "type": "string"
            },
            "text/plain": [
              "\"SELECT (sepal_length) AS sepal_length, (sepal_width) AS sepal_width, (petal_length) AS petal_length, (petal_width) AS petal_width, (species) AS species, ((CASE WHEN ((ABS(sepal_width) - ROUND(ABS(sepal_width)-0.5))==.5) AND ((CAST(sepal_width AS INT))%2 == 0) THEN (CASE WHEN sepal_width>0 THEN ROUND(sepal_width-0.001) ELSE ROUND(sepal_width+0.001) END) ELSE (ROUND(sepal_width)) END)) AS sepal_width_rounded FROM iris WHERE ((species = 'setosa'))  UNION ALL SELECT (sepal_length) AS sepal_length, (sepal_width) AS sepal_width, (petal_length) AS petal_length, (petal_width) AS petal_width, (species) AS species, ((CASE WHEN ((ABS(sepal_width) - ROUND(ABS(sepal_width)-0.5))==.5) AND ((CAST(sepal_width AS INT))%2 == 0) THEN (CASE WHEN sepal_width>0 THEN ROUND(sepal_width-0.001) ELSE ROUND(sepal_width+0.001) END) ELSE (ROUND(sepal_width)) END)) AS sepal_width_rounded FROM iris WHERE ((species = 'versicolor')) \""
            ]
          },
          "metadata": {
            "tags": []
          },
          "execution_count": 8
        }
      ]
    },
    {
      "cell_type": "code",
      "metadata": {
        "id": "N5tjEM2tMszV"
      },
      "source": [
        "df_ = copy(df)\r\n",
        "df_['sepal_width_rounded'] = df_.sepal_width.round()\r\n",
        "df_1 = df_[df_.species=='setosa'].reset_index(drop=True)\r\n",
        "df_2 = df_[df_.species=='versicolor'].reset_index(drop=True)\r\n",
        "\r\n",
        "some_df = pd_wrapped.concat([df_1, df_2])\r\n",
        "\r\n",
        "sql_string = some_df.get_sql_string()\r\n",
        "\r\n",
        "df_from_sql_database = pd.read_sql_query(sql_string, sql_connection)\r\n",
        "df_pandas = some_df.df_pandas\r\n",
        "\r\n",
        "from pandas_to_sql.testing.utils.asserters import assert_dataframes_equals\r\n",
        "assert_dataframes_equals(df_pandas, df_from_sql_database)"
      ],
      "execution_count": 9,
      "outputs": []
    },
    {
      "cell_type": "code",
      "metadata": {
        "id": "Xdq5qc-ZMssZ"
      },
      "source": [
        ""
      ],
      "execution_count": 9,
      "outputs": []
    }
  ]
}